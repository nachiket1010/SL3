{
 "cells": [
  {
   "cell_type": "code",
   "execution_count": 1,
   "id": "34631f86",
   "metadata": {},
   "outputs": [
    {
     "name": "stdout",
     "output_type": "stream",
     "text": [
      "showing info https://raw.githubusercontent.com/nltk/nltk_data/gh-pages/index.xml\n"
     ]
    }
   ],
   "source": [
    "import nltk\n",
    "nltk.download()\n",
    "from nltk import word_tokenize\n",
    "text=\"We need to Tokenize this text and perform the given Activities\"\n"
   ]
  },
  {
   "cell_type": "code",
   "execution_count": 2,
   "id": "ee2b0e8a",
   "metadata": {},
   "outputs": [
    {
     "name": "stdout",
     "output_type": "stream",
     "text": [
      "we need to tokenize this text and perform the given activities\n"
     ]
    }
   ],
   "source": [
    "#lower_case \n",
    "text=text.lower()\n",
    "print(text)"
   ]
  },
  {
   "cell_type": "code",
   "execution_count": 3,
   "id": "c0d64fe1",
   "metadata": {},
   "outputs": [
    {
     "name": "stdout",
     "output_type": "stream",
     "text": [
      "['we', 'need', 'to', 'tokenize', 'this', 'text', 'and', 'perform', 'the', 'given', 'activities']\n"
     ]
    }
   ],
   "source": [
    "#Tokenize\n",
    "print(nltk.word_tokenize(text))\n"
   ]
  },
  {
   "cell_type": "code",
   "execution_count": 11,
   "id": "c9eb24a2",
   "metadata": {},
   "outputs": [
    {
     "name": "stdout",
     "output_type": "stream",
     "text": [
      "need tokenize text perform given activities\n"
     ]
    }
   ],
   "source": [
    "#StopWords Removal\n",
    "from nltk.corpus import stopwords\n",
    "stop_word= set(stopwords.words('english'))\n",
    "words=word_tokenize(text)\n",
    "filtered_words=[word for word in words if word.lower() not in stop_word]\n",
    "\n",
    "filtered_text=\" \".join(filtered_words) \n",
    "print(filtered_text)\n"
   ]
  },
  {
   "cell_type": "code",
   "execution_count": 12,
   "id": "f6944923",
   "metadata": {},
   "outputs": [
    {
     "name": "stdout",
     "output_type": "stream",
     "text": [
      "we need to tokenize this text and perform the given act\n"
     ]
    }
   ],
   "source": [
    "\n",
    "# Stemming\n",
    "from nltk.stem import PorterStemmer\n",
    "porter=PorterStemmer()\n",
    "print(porter.stem(text))\n"
   ]
  },
  {
   "cell_type": "code",
   "execution_count": 14,
   "id": "6de073d0",
   "metadata": {},
   "outputs": [
    {
     "name": "stderr",
     "output_type": "stream",
     "text": [
      "[nltk_data] Downloading package wordnet to\n",
      "[nltk_data]     C:\\Users\\Kartik\\AppData\\Roaming\\nltk_data...\n",
      "[nltk_data]   Package wordnet is already up-to-date!\n"
     ]
    },
    {
     "name": "stdout",
     "output_type": "stream",
     "text": [
      "need tokenize text perform given activities\n"
     ]
    }
   ],
   "source": [
    "\n",
    "#Lemmatizing\n",
    "import nltk\n",
    "nltk.download(\"wordnet\")\n",
    "from nltk.stem import WordNetLemmatizer \n",
    "lemmatizer=WordNetLemmatizer()\n",
    "\n",
    "text=nltk.word_tokenize(text)\n",
    "filtered_words=word_tokenize(filtered_text)\n",
    "lemmatized_words=[lemmatizer.lemmatize(word, pos='v') for word in filtered_words] \n",
    "filtered_text=\" \".join(filtered_words)\n",
    "print(filtered_text)\n"
   ]
  },
  {
   "cell_type": "code",
   "execution_count": 15,
   "id": "4fcbb3cb",
   "metadata": {},
   "outputs": [],
   "source": [
    "\n",
    "#tf/idf import re import string\n",
    "# assign documents\n",
    "d0 = 'This is document 1'\n",
    "d1 = 'Document 2'\n",
    "d2 = 'and Document 3'\n",
    "\n",
    "# merge documents into a single corpus\n",
    "string = [d0, d1, d2]\n",
    "# import required module\n",
    "from sklearn.feature_extraction.text import TfidfVectorizer\n"
   ]
  },
  {
   "cell_type": "code",
   "execution_count": 16,
   "id": "0bcd05bf",
   "metadata": {},
   "outputs": [],
   "source": [
    "\n",
    "# create object\n",
    "tfidf = TfidfVectorizer()\n",
    "\n",
    "# get tf-df values\n",
    "result = tfidf.fit_transform(string)\n"
   ]
  },
  {
   "cell_type": "code",
   "execution_count": 19,
   "id": "5921675c",
   "metadata": {},
   "outputs": [
    {
     "name": "stdout",
     "output_type": "stream",
     "text": [
      "\n",
      "Word indexes:\n",
      "{'this': 3, 'is': 2, 'document': 1, 'and': 0}\n",
      "\n",
      "tf-idf values in matrix form:\n",
      "[[0.         0.38537163 0.65249088 0.65249088]\n",
      " [0.         1.         0.         0.        ]\n",
      " [0.861037   0.50854232 0.         0.        ]]\n"
     ]
    }
   ],
   "source": [
    "\n",
    "# get indexing\n",
    "print('\\nWord indexes:') \n",
    "print(tfidf.vocabulary_)\n",
    "\n",
    "# display tf-idf values print('\\ntf-idf value:') print(result)\n",
    "\n",
    "# in matrix form\n",
    "print('\\ntf-idf values in matrix form:')\n",
    "print(result.toarray())\n"
   ]
  },
  {
   "cell_type": "code",
   "execution_count": null,
   "id": "f4a75c12",
   "metadata": {},
   "outputs": [],
   "source": []
  }
 ],
 "metadata": {
  "kernelspec": {
   "display_name": "Python 3 (ipykernel)",
   "language": "python",
   "name": "python3"
  },
  "language_info": {
   "codemirror_mode": {
    "name": "ipython",
    "version": 3
   },
   "file_extension": ".py",
   "mimetype": "text/x-python",
   "name": "python",
   "nbconvert_exporter": "python",
   "pygments_lexer": "ipython3",
   "version": "3.11.5"
  }
 },
 "nbformat": 4,
 "nbformat_minor": 5
}
